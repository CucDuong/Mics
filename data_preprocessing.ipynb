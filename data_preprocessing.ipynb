{
 "cells": [
  {
   "cell_type": "code",
   "execution_count": 1,
   "metadata": {},
   "outputs": [],
   "source": [
    "import scipy.io as sio\n",
    "import cv2\n",
    "import matplotlib.pyplot as plt\n",
    "import numpy as np\n",
    "import Augmentor"
   ]
  },
  {
   "cell_type": "code",
   "execution_count": null,
   "metadata": {},
   "outputs": [],
   "source": [
    "X_3_1=sio.loadmat('X_3_1.mat')\n",
    "X_3_1_matrix = X_3_1['X_3_1']\n",
    "plt.imshow(X_3_1_matrix)"
   ]
  },
  {
   "cell_type": "code",
   "execution_count": null,
   "metadata": {},
   "outputs": [],
   "source": [
    "X_3_2=sio.loadmat('X_3_2.mat')\n",
    "X_3_2_matrix = X_3_2['X_3_2']\n",
    "plt.imshow(X_3_2_matrix)"
   ]
  },
  {
   "cell_type": "code",
   "execution_count": null,
   "metadata": {},
   "outputs": [],
   "source": [
    "X_2_1=sio.loadmat('X_2_1.mat')\n",
    "X_2_1_matrix = X_2_1['X_2_1']\n",
    "plt.imshow(X_2_1_matrix)"
   ]
  },
  {
   "cell_type": "code",
   "execution_count": null,
   "metadata": {},
   "outputs": [],
   "source": [
    "X_2_2=sio.loadmat('X_2_2.mat')\n",
    "X_2_2_matrix = X_2_2['X_2_2']\n",
    "plt.imshow(X_2_2_matrix)"
   ]
  },
  {
   "cell_type": "code",
   "execution_count": null,
   "metadata": {},
   "outputs": [],
   "source": [
    "X_120=sio.loadmat('X_120.mat')\n",
    "X_120_matrix = X_120['X_120']\n",
    "Y_120=sio.loadmat('Y_120.mat')\n",
    "Y_120_matrix = Y_120['Y_120']\n",
    "\n",
    "X_180=sio.loadmat('X_180.mat')\n",
    "X_180_matrix = X_180['X_180']\n",
    "Y_180=sio.loadmat('Y_180.mat')\n",
    "Y_180_matrix = Y_180['Y_180']\n"
   ]
  },
  {
   "cell_type": "code",
   "execution_count": null,
   "metadata": {},
   "outputs": [],
   "source": [
    "print ('X_120_matrix')\n",
    "print(X_120_matrix.shape)\n",
    "print ('Y_120_matrix')\n",
    "print(Y_120_matrix.shape)\n",
    "print ('X_180_matrix')\n",
    "print(X_180_matrix.shape)\n",
    "print ('Y_180_matrix')\n",
    "print(Y_180_matrix.shape)"
   ]
  },
  {
   "cell_type": "code",
   "execution_count": null,
   "metadata": {},
   "outputs": [],
   "source": [
    "cv2.startWindowThread()\n",
    "cv2.namedWindow(\"preview\")\n",
    "cv2.imshow('preview',X_2_1_matrix)\n",
    "cv2.waitKey(1)\n",
    "cv2.destroyAllWindows()"
   ]
  },
  {
   "cell_type": "code",
   "execution_count": null,
   "metadata": {},
   "outputs": [],
   "source": [
    "X_120_matrix.shape"
   ]
  },
  {
   "cell_type": "code",
   "execution_count": null,
   "metadata": {},
   "outputs": [],
   "source": [
    "test=cv2.resize(X_3_1_matrix, (100,100), interpolation = cv2.INTER_CUBIC)"
   ]
  },
  {
   "cell_type": "code",
   "execution_count": null,
   "metadata": {},
   "outputs": [],
   "source": [
    "plt.imshow(test)\n"
   ]
  },
  {
   "cell_type": "code",
   "execution_count": null,
   "metadata": {},
   "outputs": [],
   "source": [
    "plt.imshow(X_3_1_matrix)"
   ]
  },
  {
   "cell_type": "code",
   "execution_count": null,
   "metadata": {},
   "outputs": [],
   "source": [
    "test.shape"
   ]
  },
  {
   "cell_type": "code",
   "execution_count": null,
   "metadata": {},
   "outputs": [],
   "source": [
    "test = X_120_matrix.reshape()"
   ]
  },
  {
   "cell_type": "code",
   "execution_count": null,
   "metadata": {},
   "outputs": [],
   "source": [
    "def resize_all_images(X,size=100):\n",
    "    X_shape = X.shape;\n",
    "    num_images = X_shape[3];\n",
    "    X_new = np.zeros((size,size,3,num_images));\n",
    "    print ('num_images')\n",
    "    print (num_images);\n",
    "    for i in range (num_images):\n",
    "        X_new[:,:,:,i] = cv2.resize(X[:,:,:,i], (size,size), interpolation = cv2.INTER_CUBIC)\n",
    "    return X_new"
   ]
  },
  {
   "cell_type": "code",
   "execution_count": null,
   "metadata": {},
   "outputs": [],
   "source": [
    "X_120_matrix_new = resize_all_images(X_120_matrix,size=100)\n",
    "X_180_matrix_new = resize_all_images(X_180_matrix,size=100)\n",
    "X_2_1_matrix_new = cv2.resize(X_2_1_matrix, (100,100), interpolation = cv2.INTER_CUBIC).reshape((100,100,3,1))\n",
    "X_2_2_matrix_new = cv2.resize(X_2_2_matrix, (100,100), interpolation = cv2.INTER_CUBIC).reshape((100,100,3,1))\n",
    "X_3_1_matrix_new = cv2.resize(X_3_1_matrix, (100,100), interpolation = cv2.INTER_CUBIC).reshape((100,100,3,1))\n",
    "X_3_2_matrix_new = cv2.resize(X_3_2_matrix, (100,100), interpolation = cv2.INTER_CUBIC).reshape((100,100,3,1))"
   ]
  },
  {
   "cell_type": "code",
   "execution_count": null,
   "metadata": {},
   "outputs": [],
   "source": [
    "sample=X_120_matrix_new[:,:,:,5]\n",
    "print(sample.shape)\n",
    "plt.imshow(sample/255)"
   ]
  },
  {
   "cell_type": "code",
   "execution_count": null,
   "metadata": {},
   "outputs": [],
   "source": [
    "X_final_matrix = np.concatenate((X_120_matrix_new,X_180_matrix_new,X_2_1_matrix_new,X_2_2_matrix_new,X_3_1_matrix_new,X_3_2_matrix_new), axis=3)"
   ]
  },
  {
   "cell_type": "code",
   "execution_count": null,
   "metadata": {},
   "outputs": [],
   "source": [
    "X_final_matrix.shape"
   ]
  },
  {
   "cell_type": "code",
   "execution_count": null,
   "metadata": {},
   "outputs": [],
   "source": [
    "Y_final_matrix=np.concatenate((Y_120_matrix,Y_180_matrix,(np.array([2,2,3,3])).reshape((4,1))))"
   ]
  },
  {
   "cell_type": "code",
   "execution_count": null,
   "metadata": {},
   "outputs": [],
   "source": [
    "n=[[2,2,3,3]]"
   ]
  },
  {
   "cell_type": "code",
   "execution_count": null,
   "metadata": {},
   "outputs": [],
   "source": [
    "print (np.array(n))"
   ]
  },
  {
   "cell_type": "code",
   "execution_count": null,
   "metadata": {},
   "outputs": [],
   "source": [
    "print ((np.array(n)).shape)"
   ]
  },
  {
   "cell_type": "code",
   "execution_count": null,
   "metadata": {},
   "outputs": [],
   "source": [
    "print (Y_final_matrix.shape)"
   ]
  },
  {
   "cell_type": "code",
   "execution_count": null,
   "metadata": {},
   "outputs": [],
   "source": [
    "frame=207;\n",
    "print (Y_final_matrix[frame,0]);\n",
    "plt.imshow(X_final_matrix[:,:,:,frame]/255)"
   ]
  },
  {
   "cell_type": "code",
   "execution_count": null,
   "metadata": {},
   "outputs": [],
   "source": [
    "plt.hist(Y_final_matrix, bins=9)"
   ]
  },
  {
   "cell_type": "code",
   "execution_count": 5,
   "metadata": {},
   "outputs": [],
   "source": [
    "from data import *"
   ]
  },
  {
   "cell_type": "code",
   "execution_count": 6,
   "metadata": {},
   "outputs": [
    {
     "name": "stdout",
     "output_type": "stream",
     "text": [
      "X_120_matrix\n",
      "(120, 120, 3, 144)\n",
      "Y_120_matrix\n",
      "(144, 1)\n",
      "X_180_matrix\n",
      "(180, 180, 3, 60)\n",
      "Y_180_matrix\n",
      "(60, 1)\n",
      "num_images\n",
      "144\n",
      "num_images\n",
      "60\n"
     ]
    }
   ],
   "source": [
    "X,Y = get_data(resize=100);"
   ]
  },
  {
   "cell_type": "code",
   "execution_count": 7,
   "metadata": {},
   "outputs": [
    {
     "data": {
      "text/plain": [
       "(208, 100, 100, 3)"
      ]
     },
     "execution_count": 7,
     "metadata": {},
     "output_type": "execute_result"
    }
   ],
   "source": [
    "X.shape"
   ]
  },
  {
   "cell_type": "code",
   "execution_count": 8,
   "metadata": {},
   "outputs": [
    {
     "data": {
      "text/plain": [
       "(208, 1)"
      ]
     },
     "execution_count": 8,
     "metadata": {},
     "output_type": "execute_result"
    }
   ],
   "source": [
    "Y.shape"
   ]
  },
  {
   "cell_type": "code",
   "execution_count": 9,
   "metadata": {},
   "outputs": [
    {
     "data": {
      "text/plain": [
       "(array([106.,   2.,   2.,   4.,  12.,  11.,  16.,   3.,  52.]),\n",
       " array([1.        , 1.88888889, 2.77777778, 3.66666667, 4.55555556,\n",
       "        5.44444444, 6.33333333, 7.22222222, 8.11111111, 9.        ]),\n",
       " <a list of 9 Patch objects>)"
      ]
     },
     "execution_count": 9,
     "metadata": {},
     "output_type": "execute_result"
    },
    {
     "data": {
      "image/png": "[encoded data removed]",
      "text/plain": [
       "<Figure size 432x288 with 1 Axes>"
      ]
     },
     "metadata": {},
     "output_type": "display_data"
    }
   ],
   "source": [
    "plt.hist(Y,bins=9)"
   ]
  },
  {
   "cell_type": "code",
   "execution_count": null,
   "metadata": {},
   "outputs": [],
   "source": [
    "def num2onehot(num):\n",
    "    out = np.zeros((1,9))\n",
    "    out[0,num-1] = 1;\n",
    "    return out"
   ]
  },
  {
   "cell_type": "code",
   "execution_count": null,
   "metadata": {},
   "outputs": [],
   "source": [
    "num2onehot(6)"
   ]
  },
  {
   "cell_type": "code",
   "execution_count": null,
   "metadata": {},
   "outputs": [],
   "source": [
    "def one_hot_coding(Y):\n",
    "    Y_one_hot = np.zeros((Y.shape[0],9))\n",
    "    for i in range (Y.shape[0]):\n",
    "        Y_one_hot[i,:] = num2onehot(Y[i,0])\n",
    "    return Y_one_hot"
   ]
  },
  {
   "cell_type": "code",
   "execution_count": null,
   "metadata": {},
   "outputs": [],
   "source": [
    "test = one_hot_coding(Y)"
   ]
  },
  {
   "cell_type": "code",
   "execution_count": null,
   "metadata": {},
   "outputs": [],
   "source": [
    "test.shape"
   ]
  },
  {
   "cell_type": "code",
   "execution_count": 10,
   "metadata": {},
   "outputs": [],
   "source": [
    "def divide_classes(X,Y):\n",
    "    X1=np.empty((1,100,100,3))\n",
    "    X2=np.empty((1,100,100,3))\n",
    "    X3=np.empty((1,100,100,3))\n",
    "    X4=np.empty((1,100,100,3))\n",
    "    X5=np.empty((1,100,100,3))\n",
    "    X6=np.empty((1,100,100,3))\n",
    "    X7=np.empty((1,100,100,3))\n",
    "    X8=np.empty((1,100,100,3))\n",
    "\n",
    "    for i in range (208):\n",
    "        if ((Y[i,0]==1) & (X1.shape[0]<21)):\n",
    "            X1 = np.concatenate((X1,X[i:i+1,:,:,:]), axis=0)\n",
    "        if (Y[i,0]==2):\n",
    "            X2 = np.concatenate((X2,X[i:i+1,:,:,:]), axis=0)\n",
    "        if (Y[i,0]==3):\n",
    "            X3 = np.concatenate((X3,X[i:i+1,:,:,:]), axis=0)\n",
    "        if (Y[i,0]==4):\n",
    "            X4 = np.concatenate((X4,X[i:i+1,:,:,:]), axis=0)\n",
    "        if (Y[i,0]==5):\n",
    "            X5 = np.concatenate((X5,X[i:i+1,:,:,:]), axis=0)\n",
    "        if (Y[i,0]==6):\n",
    "            X6 = np.concatenate((X6,X[i:i+1,:,:,:]), axis=0)\n",
    "        if (Y[i,0]==7):\n",
    "            X7 = np.concatenate((X7,X[i:i+1,:,:,:]), axis=0)\n",
    "        if (Y[i,0]==8):\n",
    "            X8 = np.concatenate((X8,X[i:i+1,:,:,:]), axis=0)\n",
    "    return X1,X2,X3,X4,X5,X6,X7,X8"
   ]
  },
  {
   "cell_type": "code",
   "execution_count": 11,
   "metadata": {},
   "outputs": [
    {
     "name": "stdout",
     "output_type": "stream",
     "text": [
      "9\n"
     ]
    }
   ],
   "source": [
    "print(Y[1,0])\n",
    "X1,X2,X3,X4,X5,X6,X7,X8 = divide_classes(X,Y)"
   ]
  },
  {
   "cell_type": "code",
   "execution_count": 12,
   "metadata": {},
   "outputs": [
    {
     "data": {
      "text/plain": [
       "3"
      ]
     },
     "execution_count": 12,
     "metadata": {},
     "output_type": "execute_result"
    }
   ],
   "source": [
    "X2.shape[0]"
   ]
  },
  {
   "cell_type": "code",
   "execution_count": 13,
   "metadata": {},
   "outputs": [],
   "source": [
    "def delete_classes(X,Y):\n",
    "    index_to_delete=[]\n",
    "    count=0;\n",
    "    for i in range (Y.shape[0]):\n",
    "        if (Y[i,0]==9):\n",
    "            index_to_delete.append(i)\n",
    "        if (Y[i,0]==1):\n",
    "            count +=1\n",
    "            if (count>20):\n",
    "                index_to_delete.append(i)\n",
    "        \n",
    "    X_new = np.delete(X,index_to_delete,0)\n",
    "    Y_new = np.delete(Y,index_to_delete,0)\n",
    "    return X_new, Y_new"
   ]
  },
  {
   "cell_type": "code",
   "execution_count": 14,
   "metadata": {},
   "outputs": [],
   "source": [
    "X_new, Y_new = delete_classes(X,Y)"
   ]
  },
  {
   "cell_type": "code",
   "execution_count": 15,
   "metadata": {},
   "outputs": [
    {
     "data": {
      "text/plain": [
       "(70, 100, 100, 3)"
      ]
     },
     "execution_count": 15,
     "metadata": {},
     "output_type": "execute_result"
    }
   ],
   "source": [
    "X_new.shape"
   ]
  },
  {
   "cell_type": "code",
   "execution_count": 16,
   "metadata": {},
   "outputs": [
    {
     "data": {
      "text/plain": [
       "(70, 1)"
      ]
     },
     "execution_count": 16,
     "metadata": {},
     "output_type": "execute_result"
    }
   ],
   "source": [
    "Y_new.shape"
   ]
  },
  {
   "cell_type": "code",
   "execution_count": 52,
   "metadata": {},
   "outputs": [
    {
     "data": {
      "text/plain": [
       "<matplotlib.image.AxesImage at 0x9760dd8>"
      ]
     },
     "execution_count": 52,
     "metadata": {},
     "output_type": "execute_result"
    },
    {
     "data": {
      "image/png": "[encoded data removed]",
      "text/plain": [
       "<Figure size 432x288 with 1 Axes>"
      ]
     },
     "metadata": {},
     "output_type": "display_data"
    }
   ],
   "source": [
    "plt.imshow(X_new[69,:,:,:]/255)"
   ]
  },
  {
   "cell_type": "code",
   "execution_count": 22,
   "metadata": {},
   "outputs": [
    {
     "data": {
      "text/plain": [
       "2"
      ]
     },
     "execution_count": 22,
     "metadata": {},
     "output_type": "execute_result"
    }
   ],
   "source": [
    "Y_new[67,0]"
   ]
  },
  {
   "cell_type": "code",
   "execution_count": 39,
   "metadata": {},
   "outputs": [],
   "source": [
    "def rotate_bound(image, angle):\n",
    "    # grab the dimensions of the image and then determine the\n",
    "    # center\n",
    "    (h, w) = image.shape[:2]\n",
    "    (cX, cY) = (w // 2, h // 2)\n",
    " \n",
    "    # grab the rotation matrix (applying the negative of the\n",
    "    # angle to rotate clockwise), then grab the sine and cosine\n",
    "    # (i.e., the rotation components of the matrix)\n",
    "    M = cv2.getRotationMatrix2D((cX, cY), -angle, 1.0)\n",
    "    cos = np.abs(M[0, 0])\n",
    "    sin = np.abs(M[0, 1])\n",
    " \n",
    "    # compute the new bounding dimensions of the image\n",
    "    #nW = int((h * sin) + (w * cos))\n",
    "    #nH = int((h * cos) + (w * sin))\n",
    " \n",
    "    # adjust the rotation matrix to take into account translation\n",
    "    #M[0, 2] += (nW / 2) - cX\n",
    "    #M[1, 2] += (nH / 2) - cY\n",
    " \n",
    "    # perform the actual rotation and return the image\n",
    "    return cv2.warpAffine(image, M, (w,h))"
   ]
  },
  {
   "cell_type": "code",
   "execution_count": 48,
   "metadata": {},
   "outputs": [],
   "source": [
    "X_1 = rotate_bound(X_new[67,:,:,:], 90)"
   ]
  },
  {
   "cell_type": "code",
   "execution_count": 49,
   "metadata": {},
   "outputs": [
    {
     "data": {
      "text/plain": [
       "<matplotlib.image.AxesImage at 0x966e940>"
      ]
     },
     "execution_count": 49,
     "metadata": {},
     "output_type": "execute_result"
    },
    {
     "data": {
      "image/png": "[encoded data removed]",
      "text/plain": [
       "<Figure size 432x288 with 1 Axes>"
      ]
     },
     "metadata": {},
     "output_type": "display_data"
    }
   ],
   "source": [
    "plt.imshow(X_1/255)"
   ]
  },
  {
   "cell_type": "code",
   "execution_count": 38,
   "metadata": {},
   "outputs": [
    {
     "data": {
      "text/plain": [
       "(50, 50, 3)"
      ]
     },
     "execution_count": 38,
     "metadata": {},
     "output_type": "execute_result"
    }
   ],
   "source": [
    "X_1.shape"
   ]
  },
  {
   "cell_type": "code",
   "execution_count": 77,
   "metadata": {},
   "outputs": [],
   "source": [
    "X_rotated=[]\n",
    "Y_rotated=[]\n",
    "for i in range (10,370,60): \n",
    "    X_rotated.append(rotate_bound(X_new[66,:,:,:],10*i))\n",
    "    Y_rotated.append(2)\n",
    "    X_rotated.append(rotate_bound(X_new[67,:,:,:],10*i))\n",
    "    Y_rotated.append(2)\n",
    "    X_rotated.append(rotate_bound(X_new[68,:,:,:],10*i))\n",
    "    Y_rotated.append(3)\n",
    "    X_rotated.append(rotate_bound(X_new[69,:,:,:],10*i))\n",
    "    Y_rotated.append(3)"
   ]
  },
  {
   "cell_type": "code",
   "execution_count": 78,
   "metadata": {},
   "outputs": [
    {
     "data": {
      "text/plain": [
       "24"
      ]
     },
     "execution_count": 78,
     "metadata": {},
     "output_type": "execute_result"
    }
   ],
   "source": [
    "len(X_rotated)\n",
    "len(Y_rotated)"
   ]
  },
  {
   "cell_type": "code",
   "execution_count": 79,
   "metadata": {},
   "outputs": [],
   "source": [
    "X_rotated_array=np.array(X_rotated)\n",
    "Y_rotated_array=np.array(Y_rotated)"
   ]
  },
  {
   "cell_type": "code",
   "execution_count": 80,
   "metadata": {},
   "outputs": [
    {
     "data": {
      "text/plain": [
       "(24, 100, 100, 3)"
      ]
     },
     "execution_count": 80,
     "metadata": {},
     "output_type": "execute_result"
    }
   ],
   "source": [
    "X_rotated_array.shape"
   ]
  },
  {
   "cell_type": "code",
   "execution_count": 81,
   "metadata": {},
   "outputs": [
    {
     "data": {
      "text/plain": [
       "(24,)"
      ]
     },
     "execution_count": 81,
     "metadata": {},
     "output_type": "execute_result"
    }
   ],
   "source": [
    "Y_rotated_array.shape"
   ]
  },
  {
   "cell_type": "code",
   "execution_count": 83,
   "metadata": {},
   "outputs": [],
   "source": [
    "Y_rotated_array=Y_rotated_array.reshape([Y_rotated_array.shape[0],1])"
   ]
  },
  {
   "cell_type": "code",
   "execution_count": 84,
   "metadata": {},
   "outputs": [
    {
     "data": {
      "text/plain": [
       "(24, 1)"
      ]
     },
     "execution_count": 84,
     "metadata": {},
     "output_type": "execute_result"
    }
   ],
   "source": [
    "Y_rotated_array.shape"
   ]
  },
  {
   "cell_type": "code",
   "execution_count": 85,
   "metadata": {},
   "outputs": [],
   "source": [
    "X_new = np.concatenate((X_new, X_rotated_array), axis=0)"
   ]
  },
  {
   "cell_type": "code",
   "execution_count": 86,
   "metadata": {},
   "outputs": [
    {
     "data": {
      "text/plain": [
       "(134, 100, 100, 3)"
      ]
     },
     "execution_count": 86,
     "metadata": {},
     "output_type": "execute_result"
    }
   ],
   "source": [
    "X_new.shape"
   ]
  },
  {
   "cell_type": "code",
   "execution_count": 87,
   "metadata": {},
   "outputs": [],
   "source": [
    "Y_new = np.concatenate((Y_new, Y_rotated_array), axis=0)"
   ]
  },
  {
   "cell_type": "code",
   "execution_count": 88,
   "metadata": {},
   "outputs": [
    {
     "data": {
      "text/plain": [
       "<matplotlib.image.AxesImage at 0xa0439e8>"
      ]
     },
     "execution_count": 88,
     "metadata": {},
     "output_type": "execute_result"
    },
    {
     "data": {
      "image/png": "[encoded data removed]",
      "text/plain": [
       "<Figure size 432x288 with 1 Axes>"
      ]
     },
     "metadata": {},
     "output_type": "display_data"
    }
   ],
   "source": [
    "plt.imshow(X_new[-1,:,:,:]/255)"
   ]
  },
  {
   "cell_type": "code",
   "execution_count": 89,
   "metadata": {},
   "outputs": [
    {
     "data": {
      "text/plain": [
       "3"
      ]
     },
     "execution_count": 89,
     "metadata": {},
     "output_type": "execute_result"
    }
   ],
   "source": [
    "Y_new[-1,0]"
   ]
  },
  {
   "cell_type": "code",
   "execution_count": 90,
   "metadata": {},
   "outputs": [
    {
     "data": {
      "text/plain": [
       "(array([20., 34., 34.,  4., 12., 11., 16.,  3.]),\n",
       " array([1.   , 1.875, 2.75 , 3.625, 4.5  , 5.375, 6.25 , 7.125, 8.   ]),\n",
       " <a list of 8 Patch objects>)"
      ]
     },
     "execution_count": 90,
     "metadata": {},
     "output_type": "execute_result"
    },
    {
     "data": {
      "image/png": "[encoded data removed]",
      "text/plain": [
       "<Figure size 432x288 with 1 Axes>"
      ]
     },
     "metadata": {},
     "output_type": "display_data"
    }
   ],
   "source": [
    "plt.hist(Y_new,bins=8)"
   ]
  },
  {
   "cell_type": "code",
   "execution_count": null,
   "metadata": {},
   "outputs": [],
   "source": []
  }
 ],
 "metadata": {
  "kernelspec": {
   "display_name": "Python 3",
   "language": "python",
   "name": "python3"
  },
  "language_info": {
   "codemirror_mode": {
    "name": "ipython",
    "version": 3
   },
   "file_extension": ".py",
   "mimetype": "text/x-python",
   "name": "python",
   "nbconvert_exporter": "python",
   "pygments_lexer": "ipython3",
   "version": "3.6.5"
  }
 },
 "nbformat": 4,
 "nbformat_minor": 2
}
